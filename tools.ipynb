{
 "cells": [
  {
   "cell_type": "code",
   "execution_count": 1,
   "metadata": {},
   "outputs": [],
   "source": [
    "# clean the outputs env\n",
    "\n",
    "import shutil\n",
    "import os\n",
    "\n",
    "shutil.rmtree('saved_models', ignore_errors=True)\n",
    "shutil.rmtree('saved_params', ignore_errors=True)\n",
    "shutil.rmtree('saved_results', ignore_errors=True)\n",
    "\n",
    "os.mkdir('saved_models/')\n",
    "os.mkdir('saved_params/')\n",
    "os.mkdir('saved_results/')\n",
    "\n",
    "shutil.rmtree('outputs', ignore_errors=True)\n",
    "os.mkdir('outputs/')\n",
    "os.mkdir('outputs/yeast/')"
   ]
  },
  {
   "cell_type": "code",
   "execution_count": null,
   "metadata": {},
   "outputs": [],
   "source": []
  }
 ],
 "metadata": {
  "kernelspec": {
   "display_name": "lss",
   "language": "python",
   "name": "python3"
  },
  "language_info": {
   "codemirror_mode": {
    "name": "ipython",
    "version": 3
   },
   "file_extension": ".py",
   "mimetype": "text/x-python",
   "name": "python",
   "nbconvert_exporter": "python",
   "pygments_lexer": "ipython3",
   "version": "3.10.12"
  },
  "orig_nbformat": 4
 },
 "nbformat": 4,
 "nbformat_minor": 2
}
